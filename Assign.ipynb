{
 "cells": [
  {
   "cell_type": "code",
   "execution_count": 1,
   "metadata": {},
   "outputs": [
    {
     "name": "stdout",
     "output_type": "stream",
     "text": [
      "Twinkle,twinkle,littlestar, \n",
      " How I wonder what you are! \n",
      "       Up above the world so high, \n",
      " Like a diamond in the sky. \n",
      " Twinkle, twinkle, little star, \n",
      "      How I wonder what you are\n"
     ]
    }
   ],
   "source": [
    "a= 'Twinkle'+\",twinkle,\"+\"littlestar,\"\n",
    "b=\"\\n\"\n",
    "c=\"How I wonder what you are!\"\n",
    "d=\"\\n\"\n",
    "e=\"      Up above the world so high,\"\n",
    "f=\"\\n\"\n",
    "g=\"Like a diamond in the sky.\"\n",
    "h=\"\\n\"\n",
    "i=\"Twinkle, twinkle, little star,\"\n",
    "j=\"\\n\"\n",
    "k=\"     How I wonder what you are\"\n",
    "print(a,b,c,d,e,f,g,h,i,j,k)\n"
   ]
  },
  {
   "cell_type": "code",
   "execution_count": 3,
   "metadata": {},
   "outputs": [
    {
     "name": "stdout",
     "output_type": "stream",
     "text": [
      "Python version\n",
      "3.7.4 (default, Aug 13 2019, 20:35:49) \n",
      "[GCC 7.3.0]\n"
     ]
    }
   ],
   "source": [
    "##########Python Version############\n",
    "import sys\n",
    "print(\"Python version\")\n",
    "print (sys.version)\n"
   ]
  },
  {
   "cell_type": "code",
   "execution_count": 4,
   "metadata": {},
   "outputs": [
    {
     "name": "stdout",
     "output_type": "stream",
     "text": [
      "Current date and time: \n",
      "2019-11-05 03:19:57\n"
     ]
    }
   ],
   "source": [
    "import datetime\n",
    "now = datetime.datetime.now()\n",
    "\n",
    "print(\"Current date and time: \")\n",
    "print(now.strftime('%Y-%m-%d %H:%M:%S'))"
   ]
  },
  {
   "cell_type": "code",
   "execution_count": 5,
   "metadata": {},
   "outputs": [
    {
     "name": "stdout",
     "output_type": "stream",
     "text": [
      "please enter the radius of circle5\n",
      "area of circle is  78.5\n"
     ]
    }
   ],
   "source": [
    "##############Radius of the circle##############\n",
    "a= int(input(\"please enter the radius of circle\"))\n",
    "b=a*a\n",
    "c=3.14\n",
    "d=c*b\n",
    "print(\"area of circle is \",d)\n"
   ]
  },
  {
   "cell_type": "code",
   "execution_count": 6,
   "metadata": {},
   "outputs": [
    {
     "name": "stdout",
     "output_type": "stream",
     "text": [
      "khan Ahmad\n"
     ]
    }
   ],
   "source": [
    "###############Reverse order name####################\n",
    "a=\"Ahmad\"\n",
    "b=\"khan\"\n",
    "print(b+ \" \" + a)\n"
   ]
  },
  {
   "cell_type": "code",
   "execution_count": 8,
   "metadata": {},
   "outputs": [
    {
     "name": "stdout",
     "output_type": "stream",
     "text": [
      "enter your first value6\n",
      "enter your second value7\n",
      "The sum of two value is: 13\n"
     ]
    }
   ],
   "source": [
    "#################enter two number and get sum##########\n",
    "a= int(input(\"enter your first value\"))\n",
    "b= int(input(\"enter your second value\"))\n",
    "c=a+b\n",
    "print(\"The sum of two value is:\",c)"
   ]
  },
  {
   "cell_type": "code",
   "execution_count": null,
   "metadata": {},
   "outputs": [],
   "source": []
  }
 ],
 "metadata": {
  "kernelspec": {
   "display_name": "Python 3",
   "language": "python",
   "name": "python3"
  },
  "language_info": {
   "codemirror_mode": {
    "name": "ipython",
    "version": 3
   },
   "file_extension": ".py",
   "mimetype": "text/x-python",
   "name": "python",
   "nbconvert_exporter": "python",
   "pygments_lexer": "ipython3",
   "version": "3.7.4"
  }
 },
 "nbformat": 4,
 "nbformat_minor": 2
}
