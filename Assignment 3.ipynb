{
 "cells": [
  {
   "cell_type": "code",
   "execution_count": 2,
   "metadata": {},
   "outputs": [
    {
     "name": "stdout",
     "output_type": "stream",
     "text": [
      "Enter 1st value43\n",
      "Enter 2nd Value34\n",
      "Operator-\n",
      "the Subtract of 2 number is: 9\n"
     ]
    }
   ],
   "source": [
    "#########calculator using Python with addition , subtraction , multiplication division and power#####\n",
    "value1=int(input(\"Enter 1st value\"))\n",
    "value2=int(input(\"Enter 2nd Value\"))\n",
    "value3= input(\"Operator\")\n",
    "\n",
    "if value3 == \"+\":\n",
    "    add=value1+value2\n",
    "    print(\"the sum of 2 number is:\",add)\n",
    "elif value3 == \"-\":\n",
    "    Subtract=value1-value2\n",
    "    print(\"the Subtract of 2 number is:\",Subtract)\n",
    "elif value3 == \"*\":\n",
    "    Multiplication=value1*value2\n",
    "    print(\"the Multiplication of 2 number is:\",Multiplication)\n",
    "elif value3 == \"/\":\n",
    "    Division=value1/value2\n",
    "    print(\"the Division of 2 number is:\" ,Division)\n",
    "elif value3 == \"^\":\n",
    "    power=pow(value1 , value2)\n",
    "    print(\"Power of number is \",power)\n",
    "else:\n",
    "    print(\"You enter a wrong Operator\")\n"
   ]
  },
  {
   "cell_type": "code",
   "execution_count": 3,
   "metadata": {},
   "outputs": [
    {
     "name": "stdout",
     "output_type": "stream",
     "text": [
      "34\n",
      "45\n",
      "67\n",
      "78\n"
     ]
    }
   ],
   "source": [
    "##########numeric value in list using for loop########\n",
    "a=[\"asad\",\"dear\",34,\"wq\",45,67,78,\"tera\"]\n",
    "for b in a:\n",
    "    if type(b)==int:\n",
    "        print(b)"
   ]
  },
  {
   "cell_type": "code",
   "execution_count": 4,
   "metadata": {},
   "outputs": [
    {
     "name": "stdout",
     "output_type": "stream",
     "text": [
      "{'name': 'ahmad', 'Gender': 'Male', 'Religion': 'Islam', 'country': 'pakistan'}\n"
     ]
    }
   ],
   "source": [
    "########Python script to add a key to a dictionary######\n",
    "a={\"name\":\"ahmad\",\"Gender\": \"Male\",\"Religion\": \"Islam\"}\n",
    "a[\"country\"]=\"pakistan\"\n",
    "print(a)"
   ]
  },
  {
   "cell_type": "code",
   "execution_count": 5,
   "metadata": {},
   "outputs": [
    {
     "name": "stdout",
     "output_type": "stream",
     "text": [
      "211\n"
     ]
    }
   ],
   "source": [
    "########sum all the numeric items in a dictionary#######\n",
    "numbers={\"value1\":23,\"value2\":78, \"value3\":45,\"value4\":65}\n",
    "total=0\n",
    "for check in numbers.values():\n",
    "    total=total+check\n",
    "print(total)"
   ]
  },
  {
   "cell_type": "code",
   "execution_count": 6,
   "metadata": {},
   "outputs": [
    {
     "name": "stdout",
     "output_type": "stream",
     "text": [
      "1\n",
      "3\n",
      "5\n",
      "6\n",
      "9\n",
      "12\n",
      "21\n",
      "30\n"
     ]
    }
   ],
   "source": [
    "#########identify duplicate values from list##########\n",
    "items=[1,1,2,3,4,5,6,6,7,8,9,20,30,30,21,12,12,44,3,5,9,21]\n",
    "items.sort()\n",
    "for i in range (len(items) -1):\n",
    "    if items[i]==items[i+1]:\n",
    "         print(items[i])"
   ]
  },
  {
   "cell_type": "code",
   "execution_count": 21,
   "metadata": {},
   "outputs": [
    {
     "name": "stdout",
     "output_type": "stream",
     "text": [
      "already given\n"
     ]
    }
   ],
   "source": [
    "#####check if a given key already exists in a dictionary########\n",
    "data={\"name\":\"Ahmad\",\"age\":14,\"gender\":\"Male\"}\n",
    "c = 'gender'\n",
    "if c in data.keys():\n",
    "    print(\"already given\")\n",
    "else:   \n",
    "    print(\"NOT GIVEN\")\n",
    "        \n",
    "        \n",
    "        \n"
   ]
  },
  {
   "cell_type": "code",
   "execution_count": null,
   "metadata": {},
   "outputs": [],
   "source": []
  },
  {
   "cell_type": "code",
   "execution_count": null,
   "metadata": {},
   "outputs": [],
   "source": []
  }
 ],
 "metadata": {
  "kernelspec": {
   "display_name": "Python 3",
   "language": "python",
   "name": "python3"
  },
  "language_info": {
   "codemirror_mode": {
    "name": "ipython",
    "version": 3
   },
   "file_extension": ".py",
   "mimetype": "text/x-python",
   "name": "python",
   "nbconvert_exporter": "python",
   "pygments_lexer": "ipython3",
   "version": "3.7.4"
  }
 },
 "nbformat": 4,
 "nbformat_minor": 2
}
