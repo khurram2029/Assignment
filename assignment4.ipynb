{
 "cells": [
  {
   "cell_type": "code",
   "execution_count": 10,
   "metadata": {},
   "outputs": [
    {
     "name": "stdout",
     "output_type": "stream",
     "text": [
      "dict_values(['Ali', 'khan', 34, 'Islamabad'])\n"
     ]
    }
   ],
   "source": [
    "biodata={\"firstname\":\"Ali\",\"lastname\":\"khan\",\"age\":34,\"City\":\"Islamabad\"}\n",
    "biodata[\"Qualification\"]=\"Masters\"\n",
    "biodata[\"Qualification\"]=\"PHD\"\n",
    "del biodata[\"Qualification\"]\n",
    "print(biodata.values())\n"
   ]
  },
  {
   "cell_type": "code",
   "execution_count": 29,
   "metadata": {},
   "outputs": [
    {
     "name": "stdout",
     "output_type": "stream",
     "text": [
      "\n",
      "Lahore is in Pakistan.\n",
      "  It has a population of about 6158080.\n",
      "  The Minare Pakistan\n",
      "\n",
      "Karachi is in Paksitan.\n",
      "  It has a population of about 876000.\n",
      "  The Mazar-E-Qaid\n",
      "\n",
      "Islamabad is in Paksitan.\n",
      "  It has a population of about 1003285.\n",
      "  The Faisal Masjid\n"
     ]
    }
   ],
   "source": [
    "cities = {\n",
    "    'Lahore': {\n",
    "        'country': 'Pakistan',\n",
    "        'population': 6158080,\n",
    "        'fact': 'Minare Pakistan',\n",
    "        },\n",
    "    'Karachi': {\n",
    "        'country': 'Paksitan',\n",
    "        'population': 876000,\n",
    "        'fact': 'Mazar-e-qaid',\n",
    "        },\n",
    "    'Islamabad': {\n",
    "        'country': 'Paksitan',\n",
    "        'population': 1003285,\n",
    "        'fact': 'faisal Masjid',\n",
    "        }\n",
    "    }\n",
    "\n",
    "for city,city_info in cities.items():\n",
    "    country = city_info['country'].title()\n",
    "    population = city_info['population']\n",
    "    fact = city_info['fact'].title()\n",
    "\n",
    "    print(\"\\n\" + city.title() + \" is in \" + country + \".\")\n",
    "    print(\"  It has a population of about \" + str(population) + \".\")\n",
    "    print(\"  The \" + fact)"
   ]
  },
  {
   "cell_type": "code",
   "execution_count": 15,
   "metadata": {},
   "outputs": [
    {
     "name": "stdout",
     "output_type": "stream",
     "text": [
      "Enter your age2\n",
      "TICKET IS FREE\n"
     ]
    }
   ],
   "source": [
    "age=int(input(\"Enter your age\"))\n",
    "if age <=3:\n",
    "    print(\"TICKET IS FREE\");\n",
    "elif age >=3 and age <=12:\n",
    "        print(\"TICKET IS $10\");\n",
    "elif age >12:\n",
    "        print(\"TICKET IS $15\");"
   ]
  },
  {
   "cell_type": "code",
   "execution_count": 16,
   "metadata": {},
   "outputs": [],
   "source": [
    "def fav_book(title):\n",
    "    print(\"One of my favorite book is\"+\" \"+ title)\n",
    "    "
   ]
  },
  {
   "cell_type": "code",
   "execution_count": 21,
   "metadata": {},
   "outputs": [
    {
     "name": "stdout",
     "output_type": "stream",
     "text": [
      "One of my favorite book is Alice in Wonderland\n"
     ]
    }
   ],
   "source": [
    "fav_book(title=\"Alice in Wonderland\")"
   ]
  },
  {
   "cell_type": "code",
   "execution_count": 26,
   "metadata": {},
   "outputs": [
    {
     "name": "stdout",
     "output_type": "stream",
     "text": [
      "Enter an integer from 1 to 30: 6\n",
      "guess is low\n",
      "Enter an integer from 1 to 30: 7\n",
      "guess is low\n",
      "Enter an integer from 1 to 30: 8\n",
      "guess is low\n",
      "Enter an integer from 1 to 30: 0\n",
      "guess is low\n",
      "Enter an integer from 1 to 30: 7\n",
      "guess is low\n",
      "Enter an integer from 1 to 30: 11\n",
      "guess is low\n",
      "Enter an integer from 1 to 30: 15\n",
      "guess is high\n",
      "Enter an integer from 1 to 30: 12\n",
      "you guessed it!\n"
     ]
    }
   ],
   "source": [
    "import random\n",
    "n = random.randint(1,30)\n",
    "guess = int(input(\"Enter an integer from 1 to 30: \"))\n",
    "while n != \"guess\":\n",
    "    print\n",
    "    if guess < n:\n",
    "        print (\"guess is low\")\n",
    "        guess = int(input(\"Enter an integer from 1 to 30: \"))\n",
    "    elif guess > n:\n",
    "        print (\"guess is high\")\n",
    "        guess = int(input(\"Enter an integer from 1 to 30: \"))\n",
    "    else:\n",
    "        print (\"you guessed it!\")\n",
    "        break\n",
    "    print"
   ]
  },
  {
   "cell_type": "code",
   "execution_count": null,
   "metadata": {},
   "outputs": [],
   "source": []
  }
 ],
 "metadata": {
  "kernelspec": {
   "display_name": "Python 3",
   "language": "python",
   "name": "python3"
  },
  "language_info": {
   "codemirror_mode": {
    "name": "ipython",
    "version": 3
   },
   "file_extension": ".py",
   "mimetype": "text/x-python",
   "name": "python",
   "nbconvert_exporter": "python",
   "pygments_lexer": "ipython3",
   "version": "3.7.4"
  }
 },
 "nbformat": 4,
 "nbformat_minor": 2
}
