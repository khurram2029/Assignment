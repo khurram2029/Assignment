{
 "cells": [
  {
   "cell_type": "code",
   "execution_count": 13,
   "metadata": {},
   "outputs": [
    {
     "name": "stdout",
     "output_type": "stream",
     "text": [
      "enter marks of math34\n",
      "enter marks of English67\n",
      "enter marks of Islamiyat98\n",
      "enter marks of Science50\n",
      "enter marks of Physics12\n",
      "Your total Marks is  261\n",
      "Your Percentage is: 52.2\n",
      "PASS\n"
     ]
    }
   ],
   "source": [
    "input1= int(input(\"enter marks of math\"))\n",
    "input2= int(input(\"enter marks of English\"))\n",
    "input3= int(input(\"enter marks of Islamiyat\"))\n",
    "input4= int(input(\"enter marks of Science\"))\n",
    "input5= int(input(\"enter marks of Physics\"))\n",
    "sum=input1+input2+input3+input4+input5\n",
    "print(\"Your total Marks is \", sum)\n",
    "total=(sum/500)*100\n",
    "print(\"Your Percentage is:\",total)\n",
    "if total>=90:\n",
    "    print(\"Grade A+\")\n",
    "elif total>=80:\n",
    "    print(\"Grade A\")\n",
    "elif  total>=70:\n",
    "    print(\"Grade B\")\n",
    "elif total>=60:\n",
    "    print(\"Grade C\")\n",
    "elif total>=50:\n",
    "    print(\"PASS\")\n",
    "else: (\"YOU ARE FAIL\")"
   ]
  },
  {
   "cell_type": "code",
   "execution_count": 22,
   "metadata": {},
   "outputs": [
    {
     "name": "stdout",
     "output_type": "stream",
     "text": [
      "Enter a number77\n",
      "ODD\n"
     ]
    }
   ],
   "source": [
    "data1=int(input(\"Enter a number\"))\n",
    "rem=data1%2\n",
    "if rem==0:\n",
    "    print(\"even\")\n",
    "else:\n",
    "    print(\"ODD\")"
   ]
  },
  {
   "cell_type": "code",
   "execution_count": 24,
   "metadata": {},
   "outputs": [
    {
     "name": "stdout",
     "output_type": "stream",
     "text": [
      "4\n"
     ]
    }
   ],
   "source": [
    "length=(\"ABC\",\"123\",\"KL\",\"j\")\n",
    "dat=len(length)\n",
    "print(dat)"
   ]
  },
  {
   "cell_type": "code",
   "execution_count": 26,
   "metadata": {},
   "outputs": [
    {
     "name": "stdout",
     "output_type": "stream",
     "text": [
      "46\n"
     ]
    }
   ],
   "source": [
    "data=(\"ABC\",12,\"D\",34,\"E\")\n",
    "Numeric=data[1]+data[3]\n",
    "print(Numeric)"
   ]
  },
  {
   "cell_type": "code",
   "execution_count": 47,
   "metadata": {},
   "outputs": [
    {
     "data": {
      "text/plain": [
       "78"
      ]
     },
     "execution_count": 47,
     "metadata": {},
     "output_type": "execute_result"
    }
   ],
   "source": [
    "data=[1,2,3,4,78,6,7,8,9,10]\n",
    "\n",
    "max(data)\n",
    "\n",
    "    \n"
   ]
  },
  {
   "cell_type": "code",
   "execution_count": 55,
   "metadata": {},
   "outputs": [
    {
     "name": "stdout",
     "output_type": "stream",
     "text": [
      "4\n",
      "2\n",
      "3\n",
      "4\n",
      "1\n",
      "4\n"
     ]
    }
   ],
   "source": [
    "a=[4,134,2,3,4,5,6,7,23,1,83,4]\n",
    "if a[0]<5:\n",
    "    print(a[0])\n",
    "if a[1]<5:\n",
    "    print(a[1])\n",
    "if a[2]<5:\n",
    "    print(a[2])\n",
    "if a[3]<5:\n",
    "    print(a[3])\n",
    "if a[4]<5:\n",
    "    print(a[4])\n",
    "if a[5]<5:\n",
    "    print(a[5])\n",
    "if a[6]<5:\n",
    "    print(a[6])\n",
    "if a[7]<5:\n",
    "    print(a[7])\n",
    "if a[8]<5:\n",
    "    print(a[8])\n",
    "if a[9]<5:\n",
    "    print(a[9])\n",
    "if a[10]<5:\n",
    "    print([a[10]])\n",
    "if a[11]<5:\n",
    "    print(a[11])\n"
   ]
  },
  {
   "cell_type": "code",
   "execution_count": null,
   "metadata": {},
   "outputs": [],
   "source": []
  },
  {
   "cell_type": "code",
   "execution_count": null,
   "metadata": {},
   "outputs": [],
   "source": []
  }
 ],
 "metadata": {
  "kernelspec": {
   "display_name": "Python 3",
   "language": "python",
   "name": "python3"
  },
  "language_info": {
   "codemirror_mode": {
    "name": "ipython",
    "version": 3
   },
   "file_extension": ".py",
   "mimetype": "text/x-python",
   "name": "python",
   "nbconvert_exporter": "python",
   "pygments_lexer": "ipython3",
   "version": "3.7.4"
  }
 },
 "nbformat": 4,
 "nbformat_minor": 2
}
